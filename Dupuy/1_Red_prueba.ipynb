{
 "cells": [
  {
   "cell_type": "raw",
   "metadata": {},
   "source": [
    "---\n",
    "title: \"Primeras salidas: Parte 1\"\n",
    "author: \"Rubén Lagos\"\n",
    "date: \"03/27/2024\"\n",
    "format: \n",
    "  html:\n",
    "    code-fold: false\n",
    "jupyter: python3\n",
    "---"
   ]
  },
  {
   "cell_type": "markdown",
   "metadata": {},
   "source": [
    "Este notebook busca implementar una red neuronal de tipo deconvolucional para obtener las primeras salidas. Los datos utilizados fueron obtenidos mediante el código del archivo: ```Sivar_as_functions.py```.\n",
    "\n",
    "Para trabajar con los datos, crearemos una variable que contenga los parches asociados a cada caso (es decir, a cada carpeta) ya que se detectó, durante el proceso de cortado, que habían casos con 121 registros temporales y otros únicamente con 120. La estructura de la variable que contendrá toda la información será un diccionario anidado cuya key principal será la variable meteorológica respectiva y su diccionario interno contendrá dicha información para cada uno de los caso. Por ejemplo: \n",
    "```\n",
    "stack= { \"wspd_wdir10\" : { \"caso_1\" : valores, \"caso_2\", valores, ... , \"caso_n\": valores} },\n",
    "          \"HGT\"        : { \"caso_1\" : valores, \"caso_2: valores, ..., \"caso_n\": valores}}\n",
    "          ... , \n",
    "       {  \"times\", {...}}\n",
    "```\n",
    "\n",
    "Cabe mencionar que el pipeline utilizado está estrictamente basado en un trabajo anterior en el cual se implementó una red de tipo residual para el *downscaling* de temperatura.\n",
    "\n",
    ">> Pequeño disclaimer: El código implementado no está diseñado especificamente para la variable de viento ni tampoco ha sido corregido con las últimas observaciones. Sin embargo, como lo que se requiere es obtener las primeras salidas, se utilizará de todas maneras.\n",
    "\n",
    "Nota: un detalle interesante es que la variable ```times``` contiene un valor constante repetido y no es un tensor como tal (aún).\n",
    "\n",
    "##### Creación del stack\n",
    "\n",
    "Trabajaremos con 5 variables: ```[\"wspd_wdir10_0\",\"HGT\", \"XLAT\",\"XLONG\",\"times\" ]```. \n",
    "- wspd_wdir10_0: velocidad del viento. \n",
    "- \"HGT: terrain height\n",
    "- XLAT: latitud\n",
    "- XLONG: longitud\n",
    "- times: registro temporal asociado.\n",
    "\n",
    "Es importante aclarar que cada caso contiene tanto los valores del dominio d03 como d05. Más en específico, los primeros 120 archivos corresponden al dominio d03 y los 120 restantes al dominio d05.\n"
   ]
  },
  {
   "cell_type": "code",
   "execution_count": 1,
   "metadata": {},
   "outputs": [],
   "source": [
    "import matplotlib.pyplot as plt\n",
    "import tensorflow as tf\n",
    "import numpy as np \n",
    "import os \n",
    "\n",
    "path=\"./salidas_parche_big03/\" #Carpeta que contiene la info\n",
    "variables=[\"wspd_wdir10_0\", \"wspd_wdir10_1\", \"HGT\", \"XLAT\",\"XLONG\",\"times\" ] #también son los nombres de las subcarpetas\n",
    "casos=['2016_05_01', '2016_12_13', '2018_03_21', '2020_01_16', '2020_01_31'] #fecha de los casos"
   ]
  },
  {
   "cell_type": "code",
   "execution_count": 2,
   "metadata": {},
   "outputs": [
    {
     "name": "stdout",
     "output_type": "stream",
     "text": [
      "variable wspd_wdir10_0 lista\n",
      "variable wspd_wdir10_1 lista\n",
      "variable HGT lista\n",
      "variable XLAT lista\n",
      "variable XLONG lista\n",
      "variable times lista\n",
      "CPU times: total: 15.6 s\n",
      "Wall time: 1min 58s\n"
     ]
    }
   ],
   "source": [
    "%%time\n",
    "\n",
    "stack= {key: '' for key in variables} #dic. con toda la información\n",
    "\n",
    "for var in variables:\n",
    "    stack_casos= {key: '' for key in casos} #dic con la informacion de cada caso\n",
    "    for caso in casos: \n",
    "        rutas_npys=path + var + \"/\" + caso #ruta de la carpeta donde se encuentran los archivos a importar\n",
    "        archivos= os.listdir(rutas_npys) #lista con los archivos\n",
    "        archivos_npy = [archivo for archivo in archivos if archivo.endswith('.npy')] #filtrado de .npy\n",
    "\n",
    "        parches_npy=[] \n",
    "\n",
    "        if not len(archivos_npy) == 240: #eliminamos el último registro temporal de cada dominio\n",
    "            archivos_npy.pop(-1)\n",
    "            archivos_npy.pop(120)\n",
    "\n",
    "        for archivo_npy in archivos_npy: #cargamos todos los archivos .npy\n",
    "            ruta=os.path.join(rutas_npys, archivo_npy)\n",
    "            parche= np.load(ruta)\n",
    "            parches_npy.append(parche)\n",
    "\n",
    "\n",
    "        if var != 'times': #la variable times requiere un tratamiento especial al ser una ctte.\n",
    "            stack_casos[caso] = tf.convert_to_tensor(parches_npy)\n",
    "        else:\n",
    "            stack_casos[caso] = parches_npy\n",
    "\n",
    "    print(f\"variable {var} lista\")\n",
    "\n",
    "    stack[var] = stack_casos #guardamos el dic con los casos en su respectiva key"
   ]
  },
  {
   "cell_type": "code",
   "execution_count": 3,
   "metadata": {},
   "outputs": [
    {
     "name": "stdout",
     "output_type": "stream",
     "text": [
      "Para wspd_wdir10_0\n",
      "Dimensiones caso 2016_05_01:  (240, 1, 156, 32, 32)\n",
      "Dimensiones caso 2016_12_13:  (240, 1, 156, 32, 32)\n",
      "Dimensiones caso 2018_03_21:  (240, 1, 156, 32, 32)\n",
      "Dimensiones caso 2020_01_16:  (240, 1, 156, 32, 32)\n",
      "Dimensiones caso 2020_01_31:  (240, 1, 156, 32, 32)\n",
      "Para wspd_wdir10_1\n",
      "Dimensiones caso 2016_05_01:  (240, 1, 156, 32, 32)\n",
      "Dimensiones caso 2016_12_13:  (240, 1, 156, 32, 32)\n",
      "Dimensiones caso 2018_03_21:  (240, 1, 156, 32, 32)\n",
      "Dimensiones caso 2020_01_16:  (240, 1, 156, 32, 32)\n",
      "Dimensiones caso 2020_01_31:  (240, 1, 156, 32, 32)\n",
      "Para HGT\n",
      "Dimensiones caso 2016_05_01:  (240, 1, 156, 32, 32)\n",
      "Dimensiones caso 2016_12_13:  (240, 1, 156, 32, 32)\n",
      "Dimensiones caso 2018_03_21:  (240, 1, 156, 32, 32)\n",
      "Dimensiones caso 2020_01_16:  (240, 1, 156, 32, 32)\n",
      "Dimensiones caso 2020_01_31:  (240, 1, 156, 32, 32)\n",
      "Para XLAT\n",
      "Dimensiones caso 2016_05_01:  (240, 1, 156, 32, 32)\n",
      "Dimensiones caso 2016_12_13:  (240, 1, 156, 32, 32)\n",
      "Dimensiones caso 2018_03_21:  (240, 1, 156, 32, 32)\n",
      "Dimensiones caso 2020_01_16:  (240, 1, 156, 32, 32)\n",
      "Dimensiones caso 2020_01_31:  (240, 1, 156, 32, 32)\n",
      "Para XLONG\n",
      "Dimensiones caso 2016_05_01:  (240, 1, 156, 32, 32)\n",
      "Dimensiones caso 2016_12_13:  (240, 1, 156, 32, 32)\n",
      "Dimensiones caso 2018_03_21:  (240, 1, 156, 32, 32)\n",
      "Dimensiones caso 2020_01_16:  (240, 1, 156, 32, 32)\n",
      "Dimensiones caso 2020_01_31:  (240, 1, 156, 32, 32)\n",
      "Para times\n",
      "Dimensiones times:  240\n",
      "Dimensiones times:  240\n",
      "Dimensiones times:  240\n",
      "Dimensiones times:  240\n",
      "Dimensiones times:  240\n"
     ]
    }
   ],
   "source": [
    "for var in variables:\n",
    "    print(f\"Para {var}\")\n",
    "    for caso in casos:\n",
    "        if var != \"times\":\n",
    "            print(f\"Dimensiones caso {caso}: \", stack[var][caso].shape)\n",
    "        else:\n",
    "            print(f\"Dimensiones times: \",len(stack[var][caso]))"
   ]
  },
  {
   "cell_type": "markdown",
   "metadata": {},
   "source": [
    "#### Compatibilización de las variables:\n",
    "\n",
    "Al completar el proceso de importación de los datos, se pudo observar que cada carpeta contiene 120 registros temporales, y cada registro temporal tiene asociado 156 parches de tamaño 32 x 32. Esto da un total de 18720 parches por caso, y 93600 parches en total para cada variable. Sin embargo, la arquitectura a implementar exige que los parches sean de la forma (n,3,32,32,1) donde $n$ es la cantidad de parches para cada variable. Para lograr esta compatibilización, se implementará el método ```tf.reshape```de tensorflow que permite permutar las dimensiones de un tensor, en este caso lo que haremos es unificar a través de una concatenación los 156 parches asociado a los 120 registros temporales y luego concatenar nuevamente para cada uno de los casos. A través de este método lo que se obtiene es un tensor de dimensiones (93600, 1, 32, 32, 1) para cada variable a utilizar. "
   ]
  },
  {
   "cell_type": "code",
   "execution_count": 4,
   "metadata": {},
   "outputs": [
    {
     "name": "stdout",
     "output_type": "stream",
     "text": [
      "(93600, 1, 32, 32, 1)\n",
      "(93600, 1, 32, 32, 1)\n",
      "(93600, 1, 32, 32, 1)\n",
      "(93600, 1, 32, 32, 1)\n",
      "(93600, 1, 32, 32, 1)\n"
     ]
    }
   ],
   "source": [
    "def reshape_tensor(var, stack, caso=casos, input=False):\n",
    "\n",
    "    bloque= tf.zeros([1, 1, 32, 32, 1], dtype=tf.float32)\n",
    "    for caso in casos:\n",
    "        valores= stack[var][caso][120:] if not input else stack[var][caso][:120] \n",
    "        valores_reshape= tf.reshape(valores,(valores.shape[0] * valores.shape[2], valores.shape[1], valores.shape[3], valores.shape[4],1))\n",
    "        bloque=tf.concat( [bloque, valores_reshape], axis=0)\n",
    "    bloque=bloque[1:] #eliminamos el valor inicial \n",
    "    print(bloque.shape)\n",
    "    \n",
    "    return bloque\n",
    "\n",
    "vientos_target=reshape_tensor(var=variables[0],stack=stack, input=False)\n",
    "vientos_input =reshape_tensor(var=variables[0],stack=stack, input=True) #toma los primeros 120 valores correspondientes al d03\n",
    "orog          =reshape_tensor(var=variables[2],stack=stack, input=False)\n",
    "lat           =reshape_tensor(var=variables[3],stack=stack, input=False)\n",
    "lon           =reshape_tensor(var=variables[4],stack=stack, input=False)"
   ]
  },
  {
   "cell_type": "markdown",
   "metadata": {},
   "source": [
    "Para comprobar que el proceso es el correcto, se compararán los primeros 156 valores contenidos en el caso 1 del stack entero para la variable viento, con los 156 primeros parches de la variable ```vientos_input```:"
   ]
  },
  {
   "cell_type": "code",
   "execution_count": 5,
   "metadata": {},
   "outputs": [
    {
     "name": "stdout",
     "output_type": "stream",
     "text": [
      "dimensiones del tensor original:  (156, 32, 32)\n",
      "dimensiones del tensor original:  (156, 32, 32)\n",
      "Los tensores son iguales\n"
     ]
    }
   ],
   "source": [
    "tensor_old= tf.squeeze( stack[variables[0]][casos[0]][0] ) #eliminar las dimensiones de tamaño 1\n",
    "tensor_new= tf.squeeze( vientos_input[:156] ) #lo mismo que antes\n",
    "print(\"dimensiones del tensor original: \", tensor_old.shape)\n",
    "print(\"dimensiones del tensor original: \", tensor_new.shape)\n",
    "\n",
    "comparacion= tf.reduce_all(tf.equal(tensor_old, tensor_new)) #comparacion valor por valor\n",
    "if comparacion: \n",
    "    print(\"Los tensores son iguales\")\n",
    "else:\n",
    "    print(\"Los tensores son diferentes\")"
   ]
  },
  {
   "cell_type": "markdown",
   "metadata": {},
   "source": [
    "#### Visualización de los parches:"
   ]
  },
  {
   "cell_type": "code",
   "execution_count": 6,
   "metadata": {},
   "outputs": [
    {
     "data": {
      "image/png": "[encoded data removed]",
      "text/plain": [
       "<Figure size 1000x500 with 3 Axes>"
      ]
     },
     "metadata": {},
     "output_type": "display_data"
    }
   ],
   "source": [
    "#| code-fold: true\n",
    "#| label: visualizacion_parches\n",
    "#| fig-cap: \"Visualización del primer parche para el inp, target y orog\"\n",
    "\n",
    "i=0\n",
    "fig, axs = plt.subplots(1, 3, figsize=(10, 5))\n",
    "\n",
    "axs[0].imshow( tf.squeeze(vientos_input)[1]  , cmap='viridis')\n",
    "axs[0].set_title(f\"vientos_input[{str(i)}]\")\n",
    "\n",
    "axs[1].imshow(tf.squeeze(vientos_target)[1] , cmap='plasma')\n",
    "axs[1].set_title(f\"vientos_target[{str(i)}]\")\n",
    "\n",
    "axs[2].imshow(tf.squeeze(orog)[1] , cmap='inferno')\n",
    "axs[2].set_title(f\"orog[{str(i)}]\")\n",
    "\n",
    "plt.tight_layout()\n",
    "plt.show()"
   ]
  },
  {
   "cell_type": "markdown",
   "metadata": {},
   "source": [
    "#### Caso especial: variable time2\n",
    "\n",
    "Debido a que la variable ```times``` está importada como un valor constante y no como parches de tamaño (32,32), lo que haremos es expandir el valor importado a las dimensiones de los parches requeridos y luego repetimos este nuevo parche una cantidad igual a los 156 parches asociados a cada registro temporal (recordar que no existe variabilidad temporal al movernos en el espacio), para finalmente concatenar cada stack de parches temporales construidos:"
   ]
  },
  {
   "cell_type": "code",
   "execution_count": 7,
   "metadata": {},
   "outputs": [
    {
     "name": "stdout",
     "output_type": "stream",
     "text": [
      "Dimensiones tiempo:  (93600, 1, 32, 32, 1)\n"
     ]
    }
   ],
   "source": [
    "stack_time= tf.zeros([1, 1, 32, 32, 1]) #inicializamos un stack con las dimensiones requeridas\n",
    "\n",
    "for caso in casos:\n",
    "    for i in range(120): \n",
    "        tiempo=  tf.fill([32, 32], stack[variables[-1]][caso][i].astype(np.float32) ) #llenamos un parche (32,32) con el registro temporal\n",
    "        tiempo= tf.reshape(tiempo, [1, 1, 32, 32, 1]) #expandimos a las nuevas dimensiones requeridas\n",
    "        tiempo=  tf.repeat(tiempo, 156, axis=0) # repetivos 156 veces el parche temporal creado\n",
    "        stack_time=tf.concat( [stack_time, tiempo], axis=0) #concatenamos los parches creados para cada registro temporal\n",
    "\n",
    "time2=stack_time[1:] #eliminamos el primer valor creado para inicializar el stack_time\n",
    "print(\"Dimensiones tiempo: \",time2.shape)"
   ]
  },
  {
   "cell_type": "markdown",
   "metadata": {},
   "source": [
    "#### Normalización de los datos\n",
    "Para favorecer el entrenamiento de la red, normalizaremos CADA VARIABLE en el rango $[0,1]$ utilizando la siguiente fórmula:\n",
    "$$ \\text{normalización(variable)} := \\dfrac{variable - \\min(variable)}{\\max(variable) - \\min(variable)}= \\text{variable norm}$$\n",
    "donde min(variable) y max(variable) corresponderán al mínimo y máximo valor de nuestra variable a normalizar respectivamente y serán guardados como factores de escalado para el proceso de desnormalización. "
   ]
  },
  {
   "cell_type": "code",
   "execution_count": 8,
   "metadata": {},
   "outputs": [],
   "source": [
    "def normalization( data_in=input,inverse=False, scale_factor=[1,1]):\n",
    "\n",
    "    '''Método que normaliza los valores entregados.\n",
    "    input:\n",
    "        data_in: [tensor] Tensor con los parches de la variable que forma parte del input de la Red\n",
    "        inverse: [Boolean, default=False] True en caso de devolver la transformación\n",
    "    return: \n",
    "        variable normalizada\n",
    "    '''\n",
    "    if not inverse:\n",
    "        scale_factor_ = np.max(np.abs(data_in))\n",
    "        scale_factor_2 = np.min(np.abs(data_in))\n",
    "        data_out = (data_in-scale_factor_2)/(scale_factor_ - scale_factor_2)\n",
    "        scale_factor_ = [scale_factor_,scale_factor_2]\n",
    "    else:\n",
    "        data_out=(data_in * (scale_factor[0]-scale_factor[1]))+scale_factor[1]\n",
    "        scale_factor_ = scale_factor\n",
    "    return data_out, scale_factor_\n",
    "\n",
    "input_norm, input_factor  = normalization(vientos_input)\n",
    "target_norm,target_factor = normalization(vientos_target)\n",
    "lat_norm   ,lat_factor    = normalization(lat)\n",
    "lon_norm   ,lon_factor    = normalization(lon)\n",
    "orog_norm  ,orog_factor   = normalization(orog)\n",
    "time2_norm, time2_factor  = normalization(time2)"
   ]
  },
  {
   "cell_type": "markdown",
   "metadata": {},
   "source": [
    "Ahora bien, en el trabajo original los parches contenian un corte temporal que agregaba el panorama de temperatura para el tiempo anterior y el tiempo siguiente. Sin embargo, ya que ahora estamos sobre un tiempo \"discreto\", resulta complicado utilizar este mismo procedimiento debido a la considerable diferencia temporal que existe entre cada caso. Lo anterior, sumado a la necesidad de compatilizar las dimensiones, incita a la replicación de los valores en la dimensión requerida 3 veces. En caso de que la red presente problemas de convergencia graves, se debería revisar esta suposición como prioridad."
   ]
  },
  {
   "cell_type": "code",
   "execution_count": 9,
   "metadata": {},
   "outputs": [
    {
     "name": "stdout",
     "output_type": "stream",
     "text": [
      "Los tensores son iguales\n"
     ]
    }
   ],
   "source": [
    "input_norm_2 = tf.tile(input_norm,[1, 3, 1, 1, 1]) #repetimos en la segunda dimension \n",
    "\n",
    "comparacion_2= tf.reduce_all(tf.equal(input_norm[:,0,:,:,:], input_norm_2[:,1,:,:,:])) #comparacion valor por valor\n",
    "if comparacion_2: \n",
    "    print(\"Los tensores son iguales\")\n",
    "else:\n",
    "    print(\"Los tensores son diferentes\")"
   ]
  },
  {
   "cell_type": "code",
   "execution_count": 10,
   "metadata": {},
   "outputs": [],
   "source": [
    "input_norm = tf.tile(input_norm,[1, 3, 1, 1, 1]) #repetición de los valores de la dimensión\n",
    "lat_norm = tf.tile(lat_norm, [1, 3, 1, 1, 1])\n",
    "lon_norm = tf.tile(lon_norm, [1, 3, 1, 1, 1])\n",
    "orog_norm = tf.tile(orog_norm, [1, 3, 1, 1, 1])\n",
    "time2_norm = tf.tile(time2_norm, [1, 3, 1, 1, 1])\n",
    "target_norm = tf.tile(target_norm, [1, 3, 1, 1, 1])"
   ]
  },
  {
   "cell_type": "markdown",
   "metadata": {},
   "source": [
    "#### Guardado de los parches previa división incluyendo los factores de normalización (opcional)"
   ]
  },
  {
   "cell_type": "code",
   "execution_count": 14,
   "metadata": {},
   "outputs": [],
   "source": [
    "#| code-fold: true\n",
    "def guardado_parches(parches, nombre_parches, carpeta, opcional='', verbose=False):\n",
    "    ruta_completa = os.path.join(carpeta, nombre_parches + opcional + '.npy')\n",
    "    np.save(ruta_completa, parches)\n",
    "    if verbose:\n",
    "        print(\"Parches guardados exitosamente como: \", ruta_completa)\n",
    "\n",
    "guardado_parches(input_norm, \"inp_raw\", \"parches\", \"_27_03_24\")\n",
    "guardado_parches(lat_norm, \"lat_raw\", \"parches\", \"_27_03_24\")\n",
    "guardado_parches(lon_norm, \"lon_raw\", \"parches\", \"_27_03_24\")\n",
    "guardado_parches(orog_norm, \"orog_raw\", \"parches\", \"_27_03_24\")\n",
    "guardado_parches(time2_norm, \"time2_raw\", \"parches\", \"_27_03_24\")\n",
    "guardado_parches(target_norm, \"target_raw\", \"parches\", \"_27_03_24\")\n",
    "\n",
    "guardado_parches(input_factor, \"inp_factor\", \"parches\", \"_27_03_24\")\n",
    "guardado_parches(lat_factor, \"lat_factor\", \"parches\", \"_27_03_24\")\n",
    "guardado_parches(lon_factor, \"lon_factor\", \"parches\", \"_27_03_24\")\n",
    "guardado_parches(orog_factor, \"orog_factor\", \"parches\", \"_27_03_24\")\n",
    "guardado_parches(time2_factor, \"time2_factor\", \"parches\", \"_27_03_24\")\n",
    "guardado_parches(target_factor, \"target_factor\", \"parches\", \"_27_03_24\")"
   ]
  },
  {
   "cell_type": "markdown",
   "metadata": {},
   "source": [
    "#### División de los datos\n",
    "\n",
    "Finalmente la división de los datos se llevará a cabo sin tener ningún tipo de consideración espacial ni temporal específico para nuestra zona objetivo. Solo se reutilizará la misma función que fue implementada originalmente. Es importante destacar que, como el dominio a trabajar fue dividido en 156 cuadrantes y no en 12 como originalmente se hizo, la proporcionalidad en la cantidad de parches por cuadrante no tiene que ser por qué similiar. Sin embargo se espera, de una manera ideal, que cada cuadrante contenga aproximadamente una cantidad igual a $93600/156=600$ parches que serán divididos en 3 conjuntos: entrenamiento, validación y testeo, en una proporción de .60, .20, .20, respectivamente.\n",
    "\n",
    "Por último se cambiará el .float32 de cada tensor por .float16, debido a que no se busca precisión sino eficiencia al correr el código. "
   ]
  },
  {
   "cell_type": "code",
   "execution_count": 23,
   "metadata": {},
   "outputs": [],
   "source": [
    "#| code-fold: true\n",
    "def mysplit(inp, time, orog, lat, lon, target):\n",
    "        ''' Método encargado de la división  de todas las variables que conforman el input de la red en: entrenamiento (60%), validación (20%) y testeo.\n",
    "        return:\n",
    "            división de cada variable en testeo, validación y testeo.\n",
    "        '''\n",
    "        data = tf.concat([tf.cast(inp, dtype=tf.float16),\n",
    "                      tf.cast(time, dtype=tf.float16),\n",
    "                      tf.cast(orog, dtype=tf.float16),\n",
    "                      tf.cast(lat, dtype=tf.float16),\n",
    "                      tf.cast(lon, dtype=tf.float16),\n",
    "                      tf.cast(target, dtype=tf.float16)], axis=4)\n",
    "        data = tf.random.shuffle(data, seed=10)\n",
    "        n = data.shape[0]\n",
    "        n_train = int(n * .6)\n",
    "        n_valid = int(n * .2)\n",
    "        n_test = n - n_train - n_valid\n",
    "        data = tf.split(data, [n_train, n_valid, n_test])\n",
    "        return (tf.expand_dims(data[0][:, :, :, :, 0],4),\n",
    "            tf.expand_dims(data[0][:, :, :, :, 1],4),\n",
    "            tf.expand_dims(data[0][:, :, :, :, 2],4),\n",
    "            tf.expand_dims(data[0][:, :, :, :, 3],4),\n",
    "            tf.expand_dims(data[0][:, :, :, :, 4],4),\n",
    "            tf.expand_dims(tf.expand_dims(data[0][:,1,:,:,5],1),4),\n",
    "            tf.expand_dims(data[1][:, :, :, :, 0],4),\n",
    "            tf.expand_dims(data[1][:, :, :, :, 1],4),\n",
    "            tf.expand_dims(data[1][:, :, :, :, 2],4),\n",
    "            tf.expand_dims(data[1][:, :, :, :, 3],4),\n",
    "            tf.expand_dims(data[1][:, :, :, :, 4],4),\n",
    "            tf.expand_dims(tf.expand_dims(data[1][:,1,:,:,5],1),4),\n",
    "            tf.expand_dims(data[2][:, :, :, :, 0],4),\n",
    "            tf.expand_dims(data[2][:, :, :, :, 1],4),\n",
    "            tf.expand_dims(data[2][:, :, :, :, 2],4),\n",
    "            tf.expand_dims(data[2][:, :, :, :, 3],4),\n",
    "            tf.expand_dims(data[2][:, :, :, :, 4],4),\n",
    "            tf.expand_dims(tf.expand_dims(data[2][:,1,:,:,5],1),4))"
   ]
  },
  {
   "cell_type": "code",
   "execution_count": 24,
   "metadata": {},
   "outputs": [],
   "source": [
    "(inp_tr,time_tr,orog_tr,lat_tr,lon_tr,target_tr,\n",
    " inp_va,time_va,orog_va,lat_va,lon_va,target_va,\n",
    " inp_te,time_te, orog_te,lat_te,lon_te, target_te) = mysplit(input_norm,time2_norm,orog_norm,lat_norm,lon_norm,target_norm)"
   ]
  },
  {
   "cell_type": "markdown",
   "metadata": {},
   "source": [
    "#### Último ajuste: variable time2\n",
    "Debido a que la variable temporal es una variable que se inserta en el espacio latente de la arquitectura de la red, ésta se debe integrar en tamaños de (4,4) en lugar de (32,32). Para cumplir con esto, tomaremos los primeros 4 valores de cada dimensión."
   ]
  },
  {
   "cell_type": "code",
   "execution_count": 28,
   "metadata": {},
   "outputs": [
    {
     "name": "stdout",
     "output_type": "stream",
     "text": [
      "Dimensiones time entrenamiento:  (56160, 3, 4, 4, 1)\n"
     ]
    }
   ],
   "source": [
    "time_tr=time_tr[:,:,:4,:4,:]\n",
    "time_va=time_va[:,:,:4,:4,:]\n",
    "time_te=time_te[:,:,:4,:4,:]\n",
    "print(\"Dimensiones time entrenamiento: \", time_tr.shape)"
   ]
  },
  {
   "cell_type": "markdown",
   "metadata": {},
   "source": [
    "Visualización del resto de dimensiones"
   ]
  },
  {
   "cell_type": "code",
   "execution_count": 25,
   "metadata": {},
   "outputs": [
    {
     "name": "stdout",
     "output_type": "stream",
     "text": [
      "Dimensiones variables entrenamiento:  (56160, 3, 32, 32, 1)\n",
      "Dimensiones variables validación:  (18720, 3, 32, 32, 1)\n",
      "Dimensiones variables testeo:  (18720, 3, 32, 32, 1)\n"
     ]
    }
   ],
   "source": [
    "print(\"Dimensiones variables entrenamiento: \",inp_tr.shape)\n",
    "print(\"Dimensiones variables validación: \",inp_va.shape)\n",
    "print(\"Dimensiones variables testeo: \",inp_te.shape)"
   ]
  },
  {
   "cell_type": "markdown",
   "metadata": {},
   "source": [
    "#### Guardado de parches (omitible)\n",
    "Por último, guardaremos cada conjunto creado en una carpeta llamada ```parches``` que estará en el mismo directorio que el archivo con el cual estamos trabajando:"
   ]
  },
  {
   "cell_type": "code",
   "execution_count": 32,
   "metadata": {},
   "outputs": [
    {
     "name": "stdout",
     "output_type": "stream",
     "text": [
      "Parches guardados exitosamente como:  parches\\time_te_27_03_24.npy\n"
     ]
    }
   ],
   "source": [
    "#| code-fold: true\n",
    "\n",
    "guardado_parches(inp_tr, \"inp_tr\", \"parches\", \"_27_03_24\")\n",
    "guardado_parches(inp_va, \"inp_va\", \"parches\", \"_27_03_24\")\n",
    "guardado_parches(inp_te, \"inp_te\", \"parches\", \"_27_03_24\")\n",
    "\n",
    "guardado_parches(target_tr, \"target_tr\", \"parches\", \"_27_03_24\")\n",
    "guardado_parches(target_va, \"target_va\", \"parches\", \"_27_03_24\")\n",
    "guardado_parches(target_te, \"target_te\", \"parches\", \"_27_03_24\")\n",
    "\n",
    "guardado_parches(orog_tr, \"orog_tr\", \"parches\", \"_27_03_24\")\n",
    "guardado_parches(orog_va, \"orog_va\", \"parches\", \"_27_03_24\")\n",
    "guardado_parches(orog_te, \"orog_te\", \"parches\", \"_27_03_24\")\n",
    "\n",
    "guardado_parches(lon_tr, \"lon_tr\", \"parches\", \"_27_03_24\")\n",
    "guardado_parches(lon_va, \"lon_va\", \"parches\", \"_27_03_24\")\n",
    "guardado_parches(lon_te, \"lon_te\", \"parches\", \"_27_03_24\")\n",
    "\n",
    "guardado_parches(lat_tr, \"lat_tr\", \"parches\", \"_27_03_24\")\n",
    "guardado_parches(lat_va, \"lat_va\", \"parches\", \"_27_03_24\")\n",
    "guardado_parches(lat_te, \"lat_te\", \"parches\", \"_27_03_24\")\n",
    "\n",
    "guardado_parches(time_tr, \"time_tr\", \"parches\", \"_27_03_24\")\n",
    "guardado_parches(time_va, \"time_va\", \"parches\", \"_27_03_24\")\n",
    "guardado_parches(time_te, \"time_te\", \"parches\", \"_27_03_24\", verbose=True)"
   ]
  }
 ],
 "metadata": {
  "kernelspec": {
   "display_name": "SIVAR",
   "language": "python",
   "name": "python3"
  },
  "language_info": {
   "codemirror_mode": {
    "name": "ipython",
    "version": 3
   },
   "file_extension": ".py",
   "mimetype": "text/x-python",
   "name": "python",
   "nbconvert_exporter": "python",
   "pygments_lexer": "ipython3",
   "version": "3.10.4"
  }
 },
 "nbformat": 4,
 "nbformat_minor": 2
}
